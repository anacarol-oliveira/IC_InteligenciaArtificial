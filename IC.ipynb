{
 "cells": [
  {
   "cell_type": "code",
   "execution_count": null,
   "metadata": {},
   "outputs": [],
   "source": [
    "#bibliotecas\n",
    "\n",
    "import numpy as np\n",
    "import pandas as pd\n",
    "from sklearn.feature_selection import SelectKBest\n",
    "from sklearn.model_selection import GridSearchCV\n",
    "from sklearn.preprocessing import MinMaxScaler\n",
    "from sklearn import datasets, linear_model\n",
    "from sklearn.metrics import mean_squared_error, r2_score\n",
    "from sklearn.neural_network import MLPRegressor\n",
    "import matplotlib.pyplot as plt\n",
    "%matplotlib inline"
   ]
  },
  {
   "cell_type": "code",
   "execution_count": null,
   "metadata": {
    "scrolled": false
   },
   "outputs": [],
   "source": [
    "#lendo arquivos\n",
    "\n",
    "df = pd.read_csv(r\"C:\\Users\\anacarol\\Desktop\\Ic\\dados.csv\", delimiter = ';')\n",
    "df"
   ]
  },
  {
   "cell_type": "code",
   "execution_count": null,
   "metadata": {
    "scrolled": false
   },
   "outputs": [],
   "source": [
    "#inserindo código da ação desejada\n",
    "\n",
    "codigo_valido = False\n",
    "while not codigo_valido:\n",
    "    cod = input(\"Digite o código da ação desejada: \")\n",
    "    cod = cod.upper()\n",
    "    df_cod = df[df['cod_papel'] == cod]\n",
    "    codigo_valido = bool(df['cod_papel'].str.contains(cod).any())\n",
    "    if (not codigo_valido):\n",
    "        print('O código informado não é valido. Digite novamente')\n",
    "df_cod"
   ]
  },
  {
   "cell_type": "code",
   "execution_count": null,
   "metadata": {},
   "outputs": [],
   "source": [
    "#alterando o tipo de variável\n",
    "\n",
    "df.dtypes\n",
    "df['data_pregao'] = pd.to_datetime(df['data_pregao'], format = '%d/%m/%y', exact=False)\n",
    "df.dtypes"
   ]
  },
  {
   "cell_type": "code",
   "execution_count": null,
   "metadata": {},
   "outputs": [],
   "source": [
    "#criando médias móveis\n",
    "\n",
    "df_cod['mm5d'] = df_cod['preco_fechamento'].rolling(5).mean()\n",
    "df_cod['mm21d'] = df_cod['preco_fechamento'].rolling(21).mean()\n",
    "df_cod"
   ]
  },
  {
   "cell_type": "code",
   "execution_count": null,
   "metadata": {},
   "outputs": [],
   "source": [
    "#empurrando os valores das ações\n",
    "\n",
    "df_cod['preco_fechamento'] = df_cod['preco_fechamento'].shift(-1)\n",
    "df_cod"
   ]
  },
  {
   "cell_type": "code",
   "execution_count": null,
   "metadata": {},
   "outputs": [],
   "source": [
    "#retirando dados nulos\n",
    "\n",
    "df_cod.dropna(inplace=True)\n",
    "df_cod"
   ]
  },
  {
   "cell_type": "code",
   "execution_count": null,
   "metadata": {},
   "outputs": [],
   "source": [
    "#verificando quantiodade de linhas\n",
    "\n",
    "qtd_linhas = len(df_cod)\n",
    "qtd_linhas_treino = round((qtd_linhas * 0.75) - 0.5)\n",
    "qtd_linhas_teste = round((qtd_linhas * 0.99) - 0.5)\n",
    "\n",
    "info = {\n",
    "    f\" linhas treino = 0 : {qtd_linhas_treino}\"\n",
    "    f\" linhas teste = {qtd_linhas_treino} : {qtd_linhas_teste}\"\n",
    "    f\" linhas validação = {qtd_linhas_teste} : {qtd_linhas}\"\n",
    "}\n",
    "\n",
    "info"
   ]
  },
  {
   "cell_type": "code",
   "execution_count": null,
   "metadata": {},
   "outputs": [],
   "source": [
    "#reindexando data frame\n",
    "\n",
    "df_cod = df_cod.reset_index(drop = True)\n",
    "df_cod"
   ]
  },
  {
   "cell_type": "code",
   "execution_count": null,
   "metadata": {},
   "outputs": [],
   "source": [
    "#sepando features e labels\n",
    "\n",
    "features = df_cod.drop(['cod_papel', 'nome_empresa', 'data_pregao', 'preco_fechamento'], 1)\n",
    "labels = df_cod['preco_fechamento']"
   ]
  },
  {
   "cell_type": "code",
   "execution_count": null,
   "metadata": {},
   "outputs": [],
   "source": [
    "#Escolhendo as melhores features com Kbest\n",
    "\n",
    "features_list = ('preco_abertura', 'qtd_neg_efetuados', 'volume_titulos_neg', 'mm5d', 'mm21d')\n",
    "\n",
    "k_best_features = SelectKBest(k = 'all')\n",
    "k_best_features.fit_transform(features, labels)\n",
    "k_best_features_scores = k_best_features.scores_\n",
    "raw_pairs = zip(features_list[1:], k_best_features_scores)\n",
    "ordered_pairs = list(reversed(sorted(raw_pairs, key = lambda x: x[1])))\n",
    "\n",
    "k_best_features_final = dict(ordered_pairs[:15])\n",
    "k_best_features = k_best_features_final.keys()\n",
    "print ('')\n",
    "print ('Melhores features:')\n",
    "print (k_best_features_final)"
   ]
  },
  {
   "cell_type": "code",
   "execution_count": null,
   "metadata": {},
   "outputs": [],
   "source": [
    "#separando as features escolhidas\n",
    "\n",
    "features = df_cod.drop(['cod_papel', 'nome_empresa', 'data_pregao', 'preco_fechamento', 'preco_abertura', 'mm21d'], 1)"
   ]
  },
  {
   "cell_type": "code",
   "execution_count": null,
   "metadata": {},
   "outputs": [],
   "source": [
    "#normalizando os dados de entrada (features)\n",
    "\n",
    "#gerando novo padrão\n",
    "scaler = MinMaxScaler().fit(features)\n",
    "features_scale = scaler.transform(features)\n",
    "\n",
    "print ('Features: ', features_scale.shape)\n",
    "print (features_scale)"
   ]
  },
  {
   "cell_type": "code",
   "execution_count": null,
   "metadata": {},
   "outputs": [],
   "source": [
    "#separa os dados de treino, teste e validação\n",
    "\n",
    "X_train = features_scale[:qtd_linhas_treino]\n",
    "X_test = features_scale[qtd_linhas_treino:qtd_linhas_teste]\n",
    "\n",
    "y_train = labels[:qtd_linhas_treino]\n",
    "y_test = labels[qtd_linhas_treino:qtd_linhas_teste]\n",
    "\n",
    "print( len(X_train), len(y_train))\n",
    "\n",
    "print (len(X_test), len(y_test)) "
   ]
  },
  {
   "cell_type": "code",
   "execution_count": null,
   "metadata": {},
   "outputs": [],
   "source": [
    "#treinamento usando regressão linear\n",
    "\n",
    "lr = linear_model.LinearRegression()\n",
    "lr.fit(X_train, y_train)\n",
    "pred = lr.predict(X_test)\n",
    "cd = r2_score(y_test, pred)\n",
    "\n",
    "f'Coeficiência de determinação:{cd * 100:.2f}'"
   ]
  },
  {
   "cell_type": "code",
   "execution_count": null,
   "metadata": {},
   "outputs": [],
   "source": [
    "#rede neural\n",
    "\n",
    "rn = MLPRegressor(max_iter=2000)\n",
    "\n",
    "rn.fit(X_train, y_train)\n",
    "pred = rn.predict(X_test)\n",
    "\n",
    "cd = rn.score(X_test, y_test)\n",
    "\n",
    "\n",
    "f'Coeficiente de determinação:{cd * 100:.2f}'"
   ]
  },
  {
   "cell_type": "code",
   "execution_count": null,
   "metadata": {},
   "outputs": [],
   "source": [
    "#rede neural com ajuste hyper parameters\n",
    "\n",
    "rn = MLPRegressor()\n",
    "\n",
    "parameter_space = {\n",
    "    'hidden_layer_sizes': [(i,) for i in list(range(1,21))],\n",
    "    'activation': ['tanh', 'relu'],\n",
    "    'solver': ['sgd', 'adam', 'lbfgs'],\n",
    "    'alpha': [0.0001, 0.05],\n",
    "    'learning_rate': ['constant', 'adaptative'],\n",
    "}\n",
    "\n",
    "search = GridSearchCV(rn, parameter_space, n_jobs=-1, cv=5)\n",
    "\n",
    "search.fit(X_train,y_train)\n",
    "clf = search.best_estimator_\n",
    "pred = search.predict(X_test)\n",
    "\n",
    "cd = search.score(X_test, y_test)\n",
    "\n",
    "f'Coeficiente de determinação:{cd * 100:.2f}'"
   ]
  },
  {
   "cell_type": "code",
   "execution_count": null,
   "metadata": {},
   "outputs": [],
   "source": [
    "#executando a previsão\n",
    "\n",
    "previsao = features_scale[qtd_linhas_teste:qtd_linhas]\n",
    "\n",
    "data_pregao_full = df_cod['data_pregao']\n",
    "data_pregao = data_pregao_full[qtd_linhas_teste:qtd_linhas]\n",
    "\n",
    "res_full = df_cod['preco_fechamento']\n",
    "res = res_full[qtd_linhas_teste:qtd_linhas]\n",
    "\n",
    "ras_full = df_cod['preco_abertura']\n",
    "ras = ras_full[qtd_linhas_teste:qtd_linhas]\n",
    "\n",
    "pred = lr.predict(previsao)\n",
    "\n",
    "df = pd.DataFrame({'data_pregao':data_pregao, 'abertura':ras,'real':res, 'previsao':pred})\n",
    "df['real'] = df['real'].shift(+1)\n",
    "\n",
    "df.set_index('data_pregao', inplace=True)\n",
    "\n",
    "print(df)\n"
   ]
  },
  {
   "cell_type": "code",
   "execution_count": null,
   "metadata": {},
   "outputs": [],
   "source": [
    "#verificando se o candle do dia é verde ou vermelho\n",
    "\n",
    "#valor real\n",
    "df['comp_real'] = np.where(df['real'] < df['abertura'],'vermelho','verde')\n",
    "\n",
    "#valor previsto\n",
    "df['comp_previsao'] = np.where(df['abertura'] < df['previsao'],'verde','vermelho')\n",
    "\n",
    "#comparação\n",
    "df['comp'] = np.where(df['comp_previsao'] == df['comp_real'],'igual','diferente')"
   ]
  },
  {
   "cell_type": "code",
   "execution_count": null,
   "metadata": {},
   "outputs": [],
   "source": [
    "#verificando se o dia foi de alta ou baixa na bolsa\n",
    "\n",
    "#valor real\n",
    "novas_linhas = []\n",
    "linha_anterior = df['real'][0]\n",
    "for linha in df['real']:\n",
    "    if(linha_anterior != linha):\n",
    "        if(linha_anterior < linha):\n",
    "            novas_linhas.append('alto')\n",
    "        else: \n",
    "            novas_linhas.append('baixo')\n",
    "    linha_anterior = linha\n",
    "df['verif_real'] = novas_linhas\n",
    "\n",
    "#valor previsto\n",
    "novas_linhas = []\n",
    "linha_anterior = df['previsao'][0]\n",
    "for linha in df['previsao']:\n",
    "    if(linha_anterior < linha):\n",
    "        novas_linhas.append('alto')\n",
    "    else: \n",
    "        novas_linhas.append('baixo')\n",
    "    linha_anterior = linha\n",
    "df['verif_previsao'] = novas_linhas\n",
    "\n",
    "#comparação\n",
    "df['verif_comp'] = np.where(df['verif_real'] == df['verif_previsao'],'igual','diferente')"
   ]
  },
  {
   "cell_type": "code",
   "execution_count": null,
   "metadata": {},
   "outputs": [],
   "source": [
    "#dataframe final\n",
    "\n",
    "print(df)"
   ]
  },
  {
   "cell_type": "code",
   "execution_count": null,
   "metadata": {},
   "outputs": [],
   "source": [
    "#calculando desvio padrão\n",
    "\n",
    "df['diferenca'] = 0.0\n",
    "\n",
    "total_linhas = range(0,len(df['real']))\n",
    "\n",
    "for i in total_linhas:\n",
    "    df['diferenca'][i] = abs(df['real'][i] - df['previsao'][i])\n",
    "    \n",
    "print(df['diferenca'].std())"
   ]
  },
  {
   "cell_type": "code",
   "execution_count": null,
   "metadata": {},
   "outputs": [],
   "source": []
  }
 ],
 "metadata": {
  "kernelspec": {
   "display_name": "Python 3",
   "language": "python",
   "name": "python3"
  },
  "language_info": {
   "codemirror_mode": {
    "name": "ipython",
    "version": 3
   },
   "file_extension": ".py",
   "mimetype": "text/x-python",
   "name": "python",
   "nbconvert_exporter": "python",
   "pygments_lexer": "ipython3",
   "version": "3.7.6"
  }
 },
 "nbformat": 4,
 "nbformat_minor": 4
}
